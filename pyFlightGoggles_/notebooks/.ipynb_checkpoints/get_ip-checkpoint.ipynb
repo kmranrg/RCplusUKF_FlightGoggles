{
 "cells": [
  {
   "cell_type": "code",
   "execution_count": 9,
   "id": "40467933",
   "metadata": {},
   "outputs": [
    {
     "name": "stdout",
     "output_type": "stream",
     "text": [
      "Local IP address: 172.17.0.2\n"
     ]
    }
   ],
   "source": [
    "import socket\n",
    "\n",
    "def get_ip_address():\n",
    "    \"\"\"Gets the local machine's IP address.\n",
    "\n",
    "    Returns:\n",
    "        str: The IP address, or None if an error occurs.\n",
    "    \"\"\"\n",
    "    try:\n",
    "        # Create a socket object. We don't actually connect to anything,\n",
    "        # but it allows us to get the local address.\n",
    "        s = socket.socket(socket.AF_INET, socket.SOCK_DGRAM)\n",
    "        # Connect to a known external server. Doesn't matter which.\n",
    "        s.connect((\"8.8.8.8\", 80))  # Google's public DNS\n",
    "        ip_address = s.getsockname()[0]\n",
    "        s.close()\n",
    "        return ip_address\n",
    "    except Exception as e:\n",
    "        print(f\"Error getting IP address: {e}\")\n",
    "        return None\n",
    "\n",
    "if __name__ == \"__main__\":\n",
    "    ip = get_ip_address()\n",
    "    if ip:\n",
    "        print(f\"Local IP address: {ip}\")\n"
   ]
  },
  {
   "cell_type": "code",
   "execution_count": null,
   "id": "91435a7f",
   "metadata": {},
   "outputs": [],
   "source": []
  },
  {
   "cell_type": "code",
   "execution_count": null,
   "id": "49cb9c0f",
   "metadata": {},
   "outputs": [],
   "source": []
  }
 ],
 "metadata": {
  "kernelspec": {
   "display_name": "Python 3",
   "language": "python",
   "name": "python3"
  },
  "language_info": {
   "codemirror_mode": {
    "name": "ipython",
    "version": 3
   },
   "file_extension": ".py",
   "mimetype": "text/x-python",
   "name": "python",
   "nbconvert_exporter": "python",
   "pygments_lexer": "ipython3",
   "version": "3.8.0"
  }
 },
 "nbformat": 4,
 "nbformat_minor": 5
}
